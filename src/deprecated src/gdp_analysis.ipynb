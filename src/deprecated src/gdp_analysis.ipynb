{
 "cells": [
  {
   "cell_type": "code",
   "execution_count": 2,
   "metadata": {},
   "outputs": [],
   "source": [
    "import pandas as pd\n",
    "import matplotlib.pyplot as plt"
   ]
  },
  {
   "cell_type": "code",
   "execution_count": 3,
   "metadata": {},
   "outputs": [],
   "source": [
    "df = pd.read_csv('../data/Data_Final.csv')"
   ]
  },
  {
   "cell_type": "code",
   "execution_count": 4,
   "metadata": {},
   "outputs": [
    {
     "data": {
      "text/html": [
       "<div>\n",
       "<style scoped>\n",
       "    .dataframe tbody tr th:only-of-type {\n",
       "        vertical-align: middle;\n",
       "    }\n",
       "\n",
       "    .dataframe tbody tr th {\n",
       "        vertical-align: top;\n",
       "    }\n",
       "\n",
       "    .dataframe thead th {\n",
       "        text-align: right;\n",
       "    }\n",
       "</style>\n",
       "<table border=\"1\" class=\"dataframe\">\n",
       "  <thead>\n",
       "    <tr style=\"text-align: right;\">\n",
       "      <th></th>\n",
       "      <th>country</th>\n",
       "      <th>mid year</th>\n",
       "      <th>year bucket</th>\n",
       "      <th>area</th>\n",
       "      <th>dependency_ratio</th>\n",
       "      <th>flood</th>\n",
       "      <th>gdp_per_cap</th>\n",
       "      <th>gii</th>\n",
       "      <th>hdi</th>\n",
       "      <th>nri</th>\n",
       "      <th>perc_cultivated</th>\n",
       "      <th>perc_safe_water</th>\n",
       "      <th>perc_undernourish</th>\n",
       "      <th>pop_density</th>\n",
       "      <th>renew_water_per_cap</th>\n",
       "      <th>rural_pop</th>\n",
       "      <th>total_pop</th>\n",
       "      <th>urban_pop</th>\n",
       "      <th>water_stress</th>\n",
       "    </tr>\n",
       "  </thead>\n",
       "  <tbody>\n",
       "    <tr>\n",
       "      <th>0</th>\n",
       "      <td>Afghanistan</td>\n",
       "      <td>1995</td>\n",
       "      <td>1993-1997</td>\n",
       "      <td>65286.0</td>\n",
       "      <td>28.72</td>\n",
       "      <td>NaN</td>\n",
       "      <td>NaN</td>\n",
       "      <td>NaN</td>\n",
       "      <td>NaN</td>\n",
       "      <td>297.0</td>\n",
       "      <td>11.93</td>\n",
       "      <td>25.0</td>\n",
       "      <td>45.6</td>\n",
       "      <td>27.62</td>\n",
       "      <td>3623.0</td>\n",
       "      <td>14162.0</td>\n",
       "      <td>18034.0</td>\n",
       "      <td>3872.0</td>\n",
       "      <td>NaN</td>\n",
       "    </tr>\n",
       "    <tr>\n",
       "      <th>1</th>\n",
       "      <td>Afghanistan</td>\n",
       "      <td>2000</td>\n",
       "      <td>1998-2002</td>\n",
       "      <td>65286.0</td>\n",
       "      <td>28.72</td>\n",
       "      <td>NaN</td>\n",
       "      <td>192.2</td>\n",
       "      <td>NaN</td>\n",
       "      <td>0.3343</td>\n",
       "      <td>185.0</td>\n",
       "      <td>11.88</td>\n",
       "      <td>33.8</td>\n",
       "      <td>46.7</td>\n",
       "      <td>32.91</td>\n",
       "      <td>3040.0</td>\n",
       "      <td>16621.0</td>\n",
       "      <td>21487.0</td>\n",
       "      <td>4866.0</td>\n",
       "      <td>43.67</td>\n",
       "    </tr>\n",
       "    <tr>\n",
       "      <th>2</th>\n",
       "      <td>Afghanistan</td>\n",
       "      <td>2005</td>\n",
       "      <td>2003-2007</td>\n",
       "      <td>65286.0</td>\n",
       "      <td>28.72</td>\n",
       "      <td>NaN</td>\n",
       "      <td>380.4</td>\n",
       "      <td>0.7430</td>\n",
       "      <td>NaN</td>\n",
       "      <td>NaN</td>\n",
       "      <td>12.12</td>\n",
       "      <td>42.6</td>\n",
       "      <td>32.3</td>\n",
       "      <td>39.64</td>\n",
       "      <td>2525.0</td>\n",
       "      <td>19663.0</td>\n",
       "      <td>25878.0</td>\n",
       "      <td>6215.0</td>\n",
       "      <td>NaN</td>\n",
       "    </tr>\n",
       "    <tr>\n",
       "      <th>3</th>\n",
       "      <td>Afghanistan</td>\n",
       "      <td>2010</td>\n",
       "      <td>2008-2012</td>\n",
       "      <td>65286.0</td>\n",
       "      <td>28.72</td>\n",
       "      <td>NaN</td>\n",
       "      <td>690.8</td>\n",
       "      <td>0.7200</td>\n",
       "      <td>0.4630</td>\n",
       "      <td>NaN</td>\n",
       "      <td>12.12</td>\n",
       "      <td>51.6</td>\n",
       "      <td>24.3</td>\n",
       "      <td>45.53</td>\n",
       "      <td>2198.0</td>\n",
       "      <td>22131.0</td>\n",
       "      <td>29727.0</td>\n",
       "      <td>7596.0</td>\n",
       "      <td>NaN</td>\n",
       "    </tr>\n",
       "    <tr>\n",
       "      <th>4</th>\n",
       "      <td>Afghanistan</td>\n",
       "      <td>2015</td>\n",
       "      <td>2013-2017</td>\n",
       "      <td>65286.0</td>\n",
       "      <td>28.72</td>\n",
       "      <td>3.7</td>\n",
       "      <td>590.3</td>\n",
       "      <td>0.6934</td>\n",
       "      <td>0.4653</td>\n",
       "      <td>NaN</td>\n",
       "      <td>12.12</td>\n",
       "      <td>55.3</td>\n",
       "      <td>26.8</td>\n",
       "      <td>49.82</td>\n",
       "      <td>2008.0</td>\n",
       "      <td>23980.0</td>\n",
       "      <td>32527.0</td>\n",
       "      <td>8547.0</td>\n",
       "      <td>NaN</td>\n",
       "    </tr>\n",
       "  </tbody>\n",
       "</table>\n",
       "</div>"
      ],
      "text/plain": [
       "       country  mid year year bucket     area  dependency_ratio  flood  \\\n",
       "0  Afghanistan      1995   1993-1997  65286.0             28.72    NaN   \n",
       "1  Afghanistan      2000   1998-2002  65286.0             28.72    NaN   \n",
       "2  Afghanistan      2005   2003-2007  65286.0             28.72    NaN   \n",
       "3  Afghanistan      2010   2008-2012  65286.0             28.72    NaN   \n",
       "4  Afghanistan      2015   2013-2017  65286.0             28.72    3.7   \n",
       "\n",
       "   gdp_per_cap     gii     hdi    nri  perc_cultivated  perc_safe_water  \\\n",
       "0          NaN     NaN     NaN  297.0            11.93             25.0   \n",
       "1        192.2     NaN  0.3343  185.0            11.88             33.8   \n",
       "2        380.4  0.7430     NaN    NaN            12.12             42.6   \n",
       "3        690.8  0.7200  0.4630    NaN            12.12             51.6   \n",
       "4        590.3  0.6934  0.4653    NaN            12.12             55.3   \n",
       "\n",
       "   perc_undernourish  pop_density  renew_water_per_cap  rural_pop  total_pop  \\\n",
       "0               45.6        27.62               3623.0    14162.0    18034.0   \n",
       "1               46.7        32.91               3040.0    16621.0    21487.0   \n",
       "2               32.3        39.64               2525.0    19663.0    25878.0   \n",
       "3               24.3        45.53               2198.0    22131.0    29727.0   \n",
       "4               26.8        49.82               2008.0    23980.0    32527.0   \n",
       "\n",
       "   urban_pop  water_stress  \n",
       "0     3872.0           NaN  \n",
       "1     4866.0         43.67  \n",
       "2     6215.0           NaN  \n",
       "3     7596.0           NaN  \n",
       "4     8547.0           NaN  "
      ]
     },
     "execution_count": 4,
     "metadata": {},
     "output_type": "execute_result"
    }
   ],
   "source": [
    "df.head()"
   ]
  },
  {
   "cell_type": "code",
   "execution_count": 5,
   "metadata": {},
   "outputs": [
    {
     "data": {
      "text/plain": [
       "Index(['country', 'mid year', 'year bucket', 'area', 'dependency_ratio',\n",
       "       'flood', 'gdp_per_cap', 'gii', 'hdi', 'nri', 'perc_cultivated',\n",
       "       'perc_safe_water', 'perc_undernourish', 'pop_density',\n",
       "       'renew_water_per_cap', 'rural_pop', 'total_pop', 'urban_pop',\n",
       "       'water_stress'],\n",
       "      dtype='object')"
      ]
     },
     "execution_count": 5,
     "metadata": {},
     "output_type": "execute_result"
    }
   ],
   "source": [
    "df.columns"
   ]
  },
  {
   "cell_type": "code",
   "execution_count": 7,
   "metadata": {},
   "outputs": [
    {
     "data": {
      "text/html": [
       "<div>\n",
       "<style scoped>\n",
       "    .dataframe tbody tr th:only-of-type {\n",
       "        vertical-align: middle;\n",
       "    }\n",
       "\n",
       "    .dataframe tbody tr th {\n",
       "        vertical-align: top;\n",
       "    }\n",
       "\n",
       "    .dataframe thead th {\n",
       "        text-align: right;\n",
       "    }\n",
       "</style>\n",
       "<table border=\"1\" class=\"dataframe\">\n",
       "  <thead>\n",
       "    <tr style=\"text-align: right;\">\n",
       "      <th></th>\n",
       "      <th>gdp_per_cap</th>\n",
       "      <th>pop_density</th>\n",
       "    </tr>\n",
       "  </thead>\n",
       "  <tbody>\n",
       "    <tr>\n",
       "      <th>0</th>\n",
       "      <td>NaN</td>\n",
       "      <td>27.62</td>\n",
       "    </tr>\n",
       "    <tr>\n",
       "      <th>1</th>\n",
       "      <td>192.2</td>\n",
       "      <td>32.91</td>\n",
       "    </tr>\n",
       "    <tr>\n",
       "      <th>2</th>\n",
       "      <td>380.4</td>\n",
       "      <td>39.64</td>\n",
       "    </tr>\n",
       "    <tr>\n",
       "      <th>3</th>\n",
       "      <td>690.8</td>\n",
       "      <td>45.53</td>\n",
       "    </tr>\n",
       "    <tr>\n",
       "      <th>4</th>\n",
       "      <td>590.3</td>\n",
       "      <td>49.82</td>\n",
       "    </tr>\n",
       "  </tbody>\n",
       "</table>\n",
       "</div>"
      ],
      "text/plain": [
       "   gdp_per_cap  pop_density\n",
       "0          NaN        27.62\n",
       "1        192.2        32.91\n",
       "2        380.4        39.64\n",
       "3        690.8        45.53\n",
       "4        590.3        49.82"
      ]
     },
     "execution_count": 7,
     "metadata": {},
     "output_type": "execute_result"
    }
   ],
   "source": [
    "df.head()"
   ]
  },
  {
   "cell_type": "code",
   "execution_count": 8,
   "metadata": {},
   "outputs": [],
   "source": [
    "x_limit = df.gdp_per_cap.max()\n",
    "x_axis = df.gdp_per_cap.tolist()\n",
    "\n",
    "y_limit = df.pop_density.max()\n",
    "y_axis = df.pop_density.tolist()"
   ]
  },
  {
   "cell_type": "code",
   "execution_count": 9,
   "metadata": {},
   "outputs": [],
   "source": [
    "def draw_scatter(ax, x_data, y_data, xlabel, ylabel, title, fontsize=12):\n",
    "     ax.scatter(x_data, y_data, s=20, c='blue', marker='o', alpha=0.5)\n",
    "     ax.set_xlabel(xlabel, fontsize=fontsize)\n",
    "     ax.set_ylabel(ylabel, fontsize=fontsize)\n",
    "     ax.set_title(title, fontsize=fontsize)"
   ]
  },
  {
   "cell_type": "code",
   "execution_count": 10,
   "metadata": {},
   "outputs": [
    {
     "data": {
      "image/png": "[encoded data removed]",
      "text/plain": [
       "<Figure size 864x576 with 1 Axes>"
      ]
     },
     "metadata": {},
     "output_type": "display_data"
    }
   ],
   "source": [
    "#plt.rcParams['savefig.facecolor'] = \"0.8\"\n",
    "#plt.close('all')\n",
    "fig, ax = plt.subplots(figsize=(12, 8))\n",
    "draw_scatter(ax, x_axis, y_axis, 'GDP per Capita', 'Population Density', 'GDP vs Population Density')"
   ]
  },
  {
   "cell_type": "code",
   "execution_count": 11,
   "metadata": {},
   "outputs": [
    {
     "name": "stdout",
     "output_type": "stream",
     "text": [
      "Pearson: 0.14885459931225953\n",
      "Kendall Tau: 0.10425969600417319\n",
      "Spearman: 0.15050078604988676\n",
      "\n"
     ]
    }
   ],
   "source": [
    "pearson = df2.gdp_per_cap.corr(df2.pop_density, method='pearson')\n",
    "kendall = df2.gdp_per_cap.corr(df2.pop_density, method='kendall')\n",
    "spearman = df2.gdp_per_cap.corr(df2.pop_density, method='spearman')\n",
    "\n",
    "print('Pearson: {}\\nKendall Tau: {}\\nSpearman: {}\\n'.format(pearson, kendall, spearman))"
   ]
  },
  {
   "cell_type": "code",
   "execution_count": 12,
   "metadata": {},
   "outputs": [],
   "source": [
    "df3 = df[['gdp_per_cap', 'rural_pop']]"
   ]
  },
  {
   "cell_type": "code",
   "execution_count": 13,
   "metadata": {},
   "outputs": [
    {
     "data": {
      "text/html": [
       "<div>\n",
       "<style scoped>\n",
       "    .dataframe tbody tr th:only-of-type {\n",
       "        vertical-align: middle;\n",
       "    }\n",
       "\n",
       "    .dataframe tbody tr th {\n",
       "        vertical-align: top;\n",
       "    }\n",
       "\n",
       "    .dataframe thead th {\n",
       "        text-align: right;\n",
       "    }\n",
       "</style>\n",
       "<table border=\"1\" class=\"dataframe\">\n",
       "  <thead>\n",
       "    <tr style=\"text-align: right;\">\n",
       "      <th></th>\n",
       "      <th>gdp_per_cap</th>\n",
       "      <th>rural_pop</th>\n",
       "    </tr>\n",
       "  </thead>\n",
       "  <tbody>\n",
       "    <tr>\n",
       "      <th>0</th>\n",
       "      <td>NaN</td>\n",
       "      <td>14162.0</td>\n",
       "    </tr>\n",
       "    <tr>\n",
       "      <th>1</th>\n",
       "      <td>192.2</td>\n",
       "      <td>16621.0</td>\n",
       "    </tr>\n",
       "    <tr>\n",
       "      <th>2</th>\n",
       "      <td>380.4</td>\n",
       "      <td>19663.0</td>\n",
       "    </tr>\n",
       "    <tr>\n",
       "      <th>3</th>\n",
       "      <td>690.8</td>\n",
       "      <td>22131.0</td>\n",
       "    </tr>\n",
       "    <tr>\n",
       "      <th>4</th>\n",
       "      <td>590.3</td>\n",
       "      <td>23980.0</td>\n",
       "    </tr>\n",
       "  </tbody>\n",
       "</table>\n",
       "</div>"
      ],
      "text/plain": [
       "   gdp_per_cap  rural_pop\n",
       "0          NaN    14162.0\n",
       "1        192.2    16621.0\n",
       "2        380.4    19663.0\n",
       "3        690.8    22131.0\n",
       "4        590.3    23980.0"
      ]
     },
     "execution_count": 13,
     "metadata": {},
     "output_type": "execute_result"
    }
   ],
   "source": [
    "df3.head()"
   ]
  },
  {
   "cell_type": "code",
   "execution_count": 14,
   "metadata": {},
   "outputs": [],
   "source": [
    "x_limit2 = df3.gdp_per_cap.max()\n",
    "x_axis2 = df3.gdp_per_cap.tolist()\n",
    "\n",
    "y_limit2 = df3.rural_pop.max()\n",
    "y_axis2 = df3.rural_pop.tolist()"
   ]
  },
  {
   "cell_type": "code",
   "execution_count": 15,
   "metadata": {},
   "outputs": [
    {
     "data": {
      "image/png": "[encoded data removed]",
      "text/plain": [
       "<Figure size 864x576 with 1 Axes>"
      ]
     },
     "metadata": {},
     "output_type": "display_data"
    }
   ],
   "source": [
    "fig, ax = plt.subplots(figsize=(12, 8))\n",
    "draw_scatter(ax, x_axis2, y_axis2, 'GDP per Capita', 'Rural Population', 'GDP vs Rural Population')"
   ]
  },
  {
   "cell_type": "code",
   "execution_count": 16,
   "metadata": {},
   "outputs": [
    {
     "name": "stdout",
     "output_type": "stream",
     "text": [
      "Pearson: -0.0802380294610905\n",
      "Kendall Tau: -0.25371232233105717\n",
      "Spearman: -0.3778726860329097\n",
      "\n"
     ]
    }
   ],
   "source": [
    "pearson = df3.gdp_per_cap.corr(df3.rural_pop, method='pearson')\n",
    "kendall = df3.gdp_per_cap.corr(df3.rural_pop, method='kendall')\n",
    "spearman = df3.gdp_per_cap.corr(df3.rural_pop, method='spearman')\n",
    "\n",
    "print('Pearson: {}\\nKendall Tau: {}\\nSpearman: {}\\n'.format(pearson, kendall, spearman))"
   ]
  },
  {
   "cell_type": "code",
   "execution_count": 31,
   "metadata": {},
   "outputs": [],
   "source": [
    "x_limit3 = df.perc_cultivated.max()\n",
    "x_axis3 = df.perc_cultivated.tolist()\n",
    "\n",
    "y_limit3 = df.gdp_per_cap.max()\n",
    "y_axis3 = df.gdp_per_cap.tolist()"
   ]
  },
  {
   "cell_type": "code",
   "execution_count": 32,
   "metadata": {},
   "outputs": [
    {
     "data": {
      "image/png": "[encoded data removed]",
      "text/plain": [
       "<Figure size 864x576 with 1 Axes>"
      ]
     },
     "metadata": {},
     "output_type": "display_data"
    }
   ],
   "source": [
    "fig, ax = plt.subplots(figsize=(12, 8))\n",
    "draw_scatter(ax, x_axis3, y_axis3, 'Rural Population', 'GDP per Capita', 'GDP vs Rural Population')"
   ]
  },
  {
   "cell_type": "code",
   "execution_count": 19,
   "metadata": {},
   "outputs": [
    {
     "name": "stdout",
     "output_type": "stream",
     "text": [
      "Pearson: -0.10190683363236148\n",
      "Kendall Tau: -0.05917495346258668\n",
      "Spearman: -0.08728309304034669\n",
      "\n"
     ]
    }
   ],
   "source": [
    "pearson = df.gdp_per_cap.corr(df.perc_cultivated, method='pearson')\n",
    "kendall = df.gdp_per_cap.corr(df.perc_cultivated, method='kendall')\n",
    "spearman = df.gdp_per_cap.corr(df.perc_cultivated, method='spearman')\n",
    "\n",
    "print('Pearson: {}\\nKendall Tau: {}\\nSpearman: {}\\n'.format(pearson, kendall, spearman))"
   ]
  },
  {
   "cell_type": "code",
   "execution_count": 18,
   "metadata": {},
   "outputs": [
    {
     "data": {
      "text/plain": [
       "-0.10190683363236148"
      ]
     },
     "execution_count": 18,
     "metadata": {},
     "output_type": "execute_result"
    }
   ],
   "source": []
  },
  {
   "cell_type": "code",
   "execution_count": null,
   "metadata": {},
   "outputs": [],
   "source": []
  }
 ],
 "metadata": {
  "kernelspec": {
   "display_name": "Python [conda env:lab]",
   "language": "python",
   "name": "conda-env-lab-py"
  },
  "language_info": {
   "codemirror_mode": {
    "name": "ipython",
    "version": 3
   },
   "file_extension": ".py",
   "mimetype": "text/x-python",
   "name": "python",
   "nbconvert_exporter": "python",
   "pygments_lexer": "ipython3",
   "version": "3.6.4"
  }
 },
 "nbformat": 4,
 "nbformat_minor": 2
}
